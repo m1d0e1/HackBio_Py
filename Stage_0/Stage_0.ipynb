{
  "nbformat": 4,
  "nbformat_minor": 0,
  "metadata": {
    "colab": {
      "provenance": [],
      "include_colab_link": true
    },
    "kernelspec": {
      "name": "python3",
      "display_name": "Python 3"
    },
    "language_info": {
      "name": "python"
    }
  },
  "cells": [
    {
      "cell_type": "markdown",
      "metadata": {
        "id": "view-in-github",
        "colab_type": "text"
      },
      "source": [
        "<a href=\"https://colab.research.google.com/github/m1d0e1/HackBio_Py/blob/main/Stage_0/Stage_0.ipynb\" target=\"_parent\"><img src=\"https://colab.research.google.com/assets/colab-badge.svg\" alt=\"Open In Colab\"/></a>"
      ]
    },
    {
      "cell_type": "code",
      "execution_count": null,
      "metadata": {
        "id": "NF7Ta7TOj1Qn"
      },
      "outputs": [],
      "source": [
        "# Define a dictionary named 'Aspartic_Acid' to store information about team members.\n",
        "Aspartic_Acid = {\n",
        "    # List of team member names\n",
        "    \"Names\": [\"Mohamed Shaaban\", \"Kadija Boukate\", \"Dorcas Adejuyigbe\", \"Olatunde Omoniyi\"],\n",
        "    # List of team member usernames\n",
        "    \"UserName\": [\"m0hamed\", \"boukate13\", \"Dorcas\", \"visionarx\"],\n",
        "    # List of team member emails\n",
        "    \"Email\": [\"m0hamed.essamit2000@gmail.com\", \"boukate13@gmail.com\", \"dorcasadejuyigbe@gmail.com\", \"tundeomoniyi913@gmail.com\"],\n",
        "    # List of team member hobbies\n",
        "    \"Hobbies\": [[\"Football\", \"Programming\", \"reading\"], \"Reading\", \"Singing and Learning\", \"singing and tweeting\"],\n",
        "    # List of team member countries\n",
        "    \"Country\": [\"Egypt\", \"Morocco\", \"Nigeria\"],\n",
        "    # List of team member disciplines\n",
        "    \"Discipline\": [\"Biobanks & Complex Data Management\", \"Microbiology & Bioinformatics\", \"Medical Laboratory Science\", \"Pharmaceutical sciences\"],\n",
        "    # List of team member preferred programming languages\n",
        "    \"Language\": [\"Python\", \"R\"]\n",
        "}"
      ]
    },
    {
      "cell_type": "code",
      "source": [
        "# Print information about each team member using f-strings.\n",
        "# The f-strings allow embedding variables directly within the string.\n",
        "print(f'The first team member is {Aspartic_Acid[\"Names\"][0]}. His username is {Aspartic_Acid[\"UserName\"][0]}. His email is: {Aspartic_Acid[\"Email\"][0]}. His hobbies are {Aspartic_Acid[\"Hobbies\"][0]}. He is from {Aspartic_Acid[\"Country\"][0]}. He is specialized in {Aspartic_Acid[\"Discipline\"][0]}. His prefered programming language is {Aspartic_Acid[\"Language\"][0]}')\n",
        "print(f'The second team member is {Aspartic_Acid[\"Names\"][1]}. Her username is {Aspartic_Acid[\"UserName\"][1]}. Her email is: {Aspartic_Acid[\"Email\"][1]}. Her hobbies are {Aspartic_Acid[\"Hobbies\"][1]}. She is from {Aspartic_Acid[\"Country\"][1]}. She is specialized in {Aspartic_Acid[\"Discipline\"][1]}. Her prefered programming language is {Aspartic_Acid[\"Language\"][1]}')\n",
        "print(f'The third team member is {Aspartic_Acid[\"Names\"][2]}. Her username is {Aspartic_Acid[\"UserName\"][2]}. Her email is: {Aspartic_Acid[\"Email\"][2]}. Her hobbies are {Aspartic_Acid[\"Hobbies\"][2]}. She is from {Aspartic_Acid[\"Country\"][2]}. She is specialized in {Aspartic_Acid[\"Discipline\"][2]}. Her prefered programming language is {Aspartic_Acid[\"Language\"][0]}')\n",
        "print(f'The fourth team member is {Aspartic_Acid[\"Names\"][3]}. His username is {Aspartic_Acid[\"UserName\"][3]}. His email is: {Aspartic_Acid[\"Email\"][3]}. His hobbies are {Aspartic_Acid[\"Hobbies\"][3]}. He is from {Aspartic_Acid[\"Country\"][2]}. He is specialized in {Aspartic_Acid[\"Discipline\"][3]}. His prefered programming language is {Aspartic_Acid[\"Language\"][0]}')"
      ],
      "metadata": {
        "colab": {
          "base_uri": "https://localhost:8080/"
        },
        "id": "r9YGPuodlZGd",
        "outputId": "e87677e8-9854-44a9-aa54-9bd474046d09"
      },
      "execution_count": null,
      "outputs": [
        {
          "output_type": "stream",
          "name": "stdout",
          "text": [
            "The first team member is Mohamed Shaaban. His username is m0hamed. His email is: m0hamed.essamit2000@gmail.com. His hobbies are ['Football', 'Programming', 'reading']. He is from Egypt. He is specialized in Biobanks & Complex Data Management. His prefered programming language is Python\n",
            "The second team member is Kadija Boukate. Her username is boukate13. Her email is: boukate13@gmail.com. Her hobbies are Reading. She is from Morocco. She is specialized in Microbiology & Bioinformatics. Her prefered programming language is R\n",
            "The third team member is Dorcas Adejuyigbe. Her username is Dorcas. Her email is: dorcasadejuyigbe@gmail.com. Her hobbies are Singing and Learning. She is from Nigeria. She is specialized in Medical Laboratory Science. Her prefered programming language is Python\n",
            "The fourth team member is Olatunde Omoniyi. His username is visionarx. His email is: tundeomoniyi913@gmail.com. His hobbies are singing and tweeting. He is from Nigeria. He is specialized in Pharmaceutical sciences. His prefered programming language is Python\n"
          ]
        }
      ]
    },
    {
      "cell_type": "markdown",
      "source": [
        "## LinkedIn Video Link\n",
        "https://www.linkedin.com/posts/dorcas-adejuyigbe-313597274_bioinformatics-datascience-python-activity-7294450770626674688-9Pqa?utm_source=share&utm_medium=member_android"
      ],
      "metadata": {
        "id": "WE-81MgMlgND"
      }
    },
    {
      "cell_type": "markdown",
      "source": [
        "## Team Members' github\n",
        "Dorcas: https://github.com/Oluwafikunolami/Hackbio-biocoding-internship\n",
        "\n",
        "Olatunde: https://github.com/VisionaRx/Hackbio-bioinformatics-internship\n"
      ],
      "metadata": {
        "id": "FTT4fNc7Ra3y"
      }
    }
  ]
}